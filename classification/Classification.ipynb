{
 "cells": [
  {
   "cell_type": "markdown",
   "id": "28fe76d5-35d9-4bee-a32f-bf4e22632217",
   "metadata": {},
   "source": [
    "Common supervised learning tasks are Regression(predicting values) and classification(predicting classes)\n",
    "\n",
    "# MNIST"
   ]
  },
  {
   "cell_type": "markdown",
   "id": "0bc9a761-7c38-4a31-9fde-96e60bbde88f",
   "metadata": {},
   "source": [
    "It is a dataset of 70,000 small iamges of digits handwritten by high school students and employees of the US Census Bureau. Each imagtei s labeled with the digit it represents. This has been the de-facto entry point for people starting with machine learning.\n"
   ]
  },
  {
   "cell_type": "markdown",
   "id": "ce8d71bc-efc4-4293-bf1d-c603d8c03093",
   "metadata": {},
   "source": [
    "# Scikit-learn Datasets"
   ]
  },
  {
   "cell_type": "markdown",
   "id": "65a35bc9-b6ce-4ad7-a197-b19c8999f369",
   "metadata": {},
   "source": [
    "Scikit-learn provides many helper functions to download popular datasets."
   ]
  },
  {
   "cell_type": "code",
   "execution_count": 1,
   "id": "0cfc3bbd-fd5b-4559-940c-3f17dc542088",
   "metadata": {},
   "outputs": [],
   "source": [
    "from sklearn.datasets import fetch_openml\n",
    "mnist = fetch_openml('mnist_784', as_frame = False, parser = 'auto') #fetch_openml returns images as DataFrames and labels as Pandas series\n",
    "#But dataframes are not ideal for that, so it is preferable to set as_frame = False to get the data as NumPy arrays."
   ]
  },
  {
   "cell_type": "markdown",
   "id": "93bf586d-74ed-417d-a550-b0eeaf0fd6b0",
   "metadata": {},
   "source": [
    "The sklearn.datasets package contains mostly three types of functions:- \n",
    "1) fetch_* (download real life datasets)\n",
    "2) load_* ( download small toy datasets bundled with Scikit-Learn that need not be downloaded from the internet)\n",
    "3) make_* ( generates fake datasets that are returned as (X,y) typles containing the input data and targets as numpy arrays)"
   ]
  },
  {
   "cell_type": "markdown",
   "id": "b217bc1d-ace7-42d8-8b12-ceb10241c37a",
   "metadata": {},
   "source": [
    "non-fake datasets are returned as sklearn.utils.Bunch objects, which are dictionares whose entries can also be accessed as attributes. They contain the following entries:-\n",
    "\n",
    "1) DESCR - a description of the dataset\n",
    "2) data - The input data, usually as a 2D NumPy array\n",
    "3) target - the labels, usually a 1d NumPy array"
   ]
  },
  {
   "cell_type": "code",
   "execution_count": 2,
   "id": "9d9032ef-5222-43a9-9e2b-d950e9f5202d",
   "metadata": {},
   "outputs": [],
   "source": [
    "x,y = mnist.data, mnist.target"
   ]
  },
  {
   "cell_type": "code",
   "execution_count": 3,
   "id": "109463c3-93d5-41f8-8cae-b7b35dd8bf73",
   "metadata": {},
   "outputs": [
    {
     "data": {
      "text/plain": [
       "array([[0, 0, 0, ..., 0, 0, 0],\n",
       "       [0, 0, 0, ..., 0, 0, 0],\n",
       "       [0, 0, 0, ..., 0, 0, 0],\n",
       "       ...,\n",
       "       [0, 0, 0, ..., 0, 0, 0],\n",
       "       [0, 0, 0, ..., 0, 0, 0],\n",
       "       [0, 0, 0, ..., 0, 0, 0]], dtype=int64)"
      ]
     },
     "execution_count": 3,
     "metadata": {},
     "output_type": "execute_result"
    }
   ],
   "source": [
    "x"
   ]
  },
  {
   "cell_type": "code",
   "execution_count": 4,
   "id": "5e40bac9-4098-4e52-8b75-564fbeeac352",
   "metadata": {},
   "outputs": [
    {
     "data": {
      "text/plain": [
       "array(['5', '0', '4', ..., '4', '5', '6'], dtype=object)"
      ]
     },
     "execution_count": 4,
     "metadata": {},
     "output_type": "execute_result"
    }
   ],
   "source": [
    "y"
   ]
  },
  {
   "cell_type": "code",
   "execution_count": 5,
   "id": "cfcad0de-0827-4875-b352-5cb935cb501b",
   "metadata": {},
   "outputs": [
    {
     "data": {
      "text/plain": [
       "(70000, 784)"
      ]
     },
     "execution_count": 5,
     "metadata": {},
     "output_type": "execute_result"
    }
   ],
   "source": [
    "x.shape"
   ]
  },
  {
   "cell_type": "code",
   "execution_count": 6,
   "id": "83c4a22e-579b-4117-a73a-8589239c4750",
   "metadata": {},
   "outputs": [
    {
     "data": {
      "text/plain": [
       "(70000,)"
      ]
     },
     "execution_count": 6,
     "metadata": {},
     "output_type": "execute_result"
    }
   ],
   "source": [
    "y.shape"
   ]
  },
  {
   "cell_type": "markdown",
   "id": "4cd09648-bc1e-4243-8a10-509a58b4540d",
   "metadata": {},
   "source": [
    "There are 70,000 images each with 784 features. (28 x 28). \n",
    "each feature represents on pixel's intensity from 0(white) to 255(black).\n"
   ]
  },
  {
   "cell_type": "code",
   "execution_count": 7,
   "id": "2337d9c1-11bc-40d1-8292-885964e1b8d4",
   "metadata": {},
   "outputs": [],
   "source": [
    "import matplotlib.pyplot as plt\n",
    "import random \n",
    "import numpy as np"
   ]
  },
  {
   "cell_type": "code",
   "execution_count": 8,
   "id": "dbcb2014-2a12-4652-ac29-599c6e76113b",
   "metadata": {},
   "outputs": [],
   "source": [
    "def fetch_digit1D():\n",
    "    index = random.randint(0,69999)\n",
    "    test_digit = x[index]\n",
    "    return (test_digit, index)"
   ]
  },
  {
   "cell_type": "code",
   "execution_count": 9,
   "id": "af18b1ec-5577-478c-91fa-e9da545f319a",
   "metadata": {},
   "outputs": [],
   "source": [
    "def fetch_digit2D():\n",
    "    index = random.randint(0,69999)\n",
    "    test_digit = x[index]\n",
    "    test_digit = test_digit.reshape(28,28)\n",
    "    return (test_digit, index)"
   ]
  },
  {
   "cell_type": "code",
   "execution_count": 10,
   "id": "174e187b-639b-41c3-8a39-2ee34c7ec849",
   "metadata": {},
   "outputs": [],
   "source": [
    "def plot_digit():\n",
    "    test_digit,index = fetch_digit2D()\n",
    "    print(index)\n",
    "    plt.imshow(test_digit, cmap = 'binary')\n",
    "    plt.axis('off')"
   ]
  },
  {
   "cell_type": "code",
   "execution_count": 11,
   "id": "d1676e73-55b3-4202-86fb-01cbcc535b50",
   "metadata": {},
   "outputs": [
    {
     "name": "stdout",
     "output_type": "stream",
     "text": [
      "13878\n"
     ]
    },
    {
     "data": {
      "image/png": "[encoded data removed]",
      "text/plain": [
       "<Figure size 640x480 with 1 Axes>"
      ]
     },
     "metadata": {},
     "output_type": "display_data"
    }
   ],
   "source": [
    "plot_digit()\n",
    "plt.show()"
   ]
  },
  {
   "cell_type": "markdown",
   "id": "96e23e5f-0759-453e-aa86-1344c48b186c",
   "metadata": {},
   "source": [
    "# splitting data"
   ]
  },
  {
   "cell_type": "markdown",
   "id": "e67c3adf-7291-4ebf-8928-af3b3b05e5e9",
   "metadata": {},
   "source": [
    "The images are already shuffled, and ensures that all cross-validation folds will be similar. \n",
    "some algos are sensitive to the order of training instances, and they perform poorly if they get many similar instances in a row.\n",
    "Shuffling maybe a bad idea in some contexts like time series data.\n",
    "So, the datasets returned by fetch_openml are not always shuffled or split."
   ]
  },
  {
   "cell_type": "code",
   "execution_count": 12,
   "id": "73713520-6186-4ca8-aa74-1df8b3f1c183",
   "metadata": {},
   "outputs": [],
   "source": [
    "x_train, x_test, y_train, y_test = x[:60000], x[60000:], y[:60000], y[60000:]"
   ]
  },
  {
   "cell_type": "markdown",
   "id": "d2facde6-318b-4a11-bbf8-6dc6b6d14332",
   "metadata": {},
   "source": [
    "# Training a Binary Classifier"
   ]
  },
  {
   "cell_type": "markdown",
   "id": "3599cd99-130b-4792-b0bc-4948611ffe4e",
   "metadata": {},
   "source": [
    "## identifying a single digit"
   ]
  },
  {
   "cell_type": "code",
   "execution_count": 13,
   "id": "b2a2d36e-7c22-412b-8111-3e142e069100",
   "metadata": {},
   "outputs": [],
   "source": [
    "from sklearn.linear_model import SGDClassifier\n"
   ]
  },
  {
   "cell_type": "markdown",
   "id": "8d4cc594-f725-40fe-aa99-22101c1c00d5",
   "metadata": {},
   "source": [
    "SGD stands for Stochastic Gradient Descent. It is capabale of handlign very large datasets efficiently, because it deals with training instances independantly, one at a time, making it suitable for online learning."
   ]
  },
  {
   "cell_type": "code",
   "execution_count": 14,
   "id": "d2324968-8bc1-4e63-b269-f0715363de7d",
   "metadata": {},
   "outputs": [],
   "source": [
    "def single_digit_model(digit, x_train, y_train):\n",
    "    y_train_5 = (y_train == '5')\n",
    "    sgd_clf = SGDClassifier(random_state=42)\n",
    "    sgd_clf.fit(x_train, y_train_5)\n",
    "    return sgd_clf"
   ]
  },
  {
   "cell_type": "code",
   "execution_count": 15,
   "id": "e3cbc0cc-dfd8-4d28-82cb-781346f412b1",
   "metadata": {},
   "outputs": [],
   "source": [
    "digit = '5'"
   ]
  },
  {
   "cell_type": "code",
   "execution_count": 16,
   "id": "61abe370-6ed0-467f-ae0e-2299f4c1867a",
   "metadata": {},
   "outputs": [],
   "source": [
    "model = single_digit_model(digit, x_train, y_train)"
   ]
  },
  {
   "cell_type": "code",
   "execution_count": 17,
   "id": "3f59e0e6-9ee4-4e0a-a486-cb8127211ad5",
   "metadata": {},
   "outputs": [],
   "source": [
    "y_train_digit = (y_train == digit)\n"
   ]
  },
  {
   "cell_type": "code",
   "execution_count": 18,
   "id": "bdbb3ade-78da-4cb3-bb8d-c6c71011354c",
   "metadata": {},
   "outputs": [
    {
     "data": {
      "text/plain": [
       "array([False,  True])"
      ]
     },
     "execution_count": 18,
     "metadata": {},
     "output_type": "execute_result"
    }
   ],
   "source": [
    "np.unique(y_train_digit)"
   ]
  },
  {
   "cell_type": "code",
   "execution_count": 19,
   "id": "d63fc6b0-216a-4094-bd94-615033be27bb",
   "metadata": {},
   "outputs": [
    {
     "data": {
      "text/plain": [
       "array([False])"
      ]
     },
     "execution_count": 19,
     "metadata": {},
     "output_type": "execute_result"
    }
   ],
   "source": [
    "digit, index = fetch_digit1D()\n",
    "model.predict([digit])"
   ]
  },
  {
   "cell_type": "markdown",
   "id": "ec421f4c-edde-4480-872a-9e63604dfa70",
   "metadata": {},
   "source": [
    "## Performance Measures"
   ]
  },
  {
   "cell_type": "markdown",
   "id": "d3be94ac-b1dc-4fbe-b826-a0f5eb4a5c0d",
   "metadata": {},
   "source": [
    "### Cross-Validation"
   ]
  },
  {
   "cell_type": "code",
   "execution_count": 20,
   "id": "6aebdbaf-2a8f-4c4b-bcc2-1d82619d8793",
   "metadata": {},
   "outputs": [
    {
     "data": {
      "text/plain": [
       "array([0.95035, 0.96035, 0.9604 ])"
      ]
     },
     "execution_count": 20,
     "metadata": {},
     "output_type": "execute_result"
    }
   ],
   "source": [
    "from sklearn.model_selection import cross_val_score\n",
    "cross_val_score(model,x_train, y_train_digit, cv = 3,scoring = 'accuracy')"
   ]
  },
  {
   "cell_type": "markdown",
   "id": "1cdb0cbd-8b10-4dd3-9398-1d4e4707a0de",
   "metadata": {},
   "source": [
    "The perfromance measure is displaying good numbers, not because the model is good, but because the dataset is skewed, and the number of positive classes is too low. this makes the model right most of the time even if it outputs the wrong label for all the classes.\n",
    "So, a better way to evaluate the classifier's performance is to use Confusion Matrix."
   ]
  },
  {
   "cell_type": "markdown",
   "id": "84c48ccd-cb64-448a-a8d9-7257c4fe1451",
   "metadata": {},
   "source": [
    "### Confusion matrices"
   ]
  },
  {
   "cell_type": "markdown",
   "id": "ba81c3d2-d51f-4f34-8708-8c44773ba2e5",
   "metadata": {},
   "source": [
    "Each row in a confusion matrix represents an acutal class, while each column represents a predicted lass. It counts the number of times instances of class A are classified as class B for all A/B pairs."
   ]
  },
  {
   "cell_type": "code",
   "execution_count": 21,
   "id": "c17dc15a-bc36-4792-8e0b-8bac15636340",
   "metadata": {},
   "outputs": [],
   "source": [
    "from sklearn.model_selection import cross_val_predict\n",
    "from sklearn.metrics import confusion_matrix"
   ]
  },
  {
   "cell_type": "code",
   "execution_count": 22,
   "id": "454bb686-6caf-49e3-a0bc-c78f47603592",
   "metadata": {},
   "outputs": [],
   "source": [
    "y_train_pred  = cross_val_predict(model, x_train, y_train_digit, cv = 3)"
   ]
  },
  {
   "cell_type": "code",
   "execution_count": 23,
   "id": "a7acfd2a-ec22-49d1-90bd-f1292babec62",
   "metadata": {},
   "outputs": [
    {
     "name": "stdout",
     "output_type": "stream",
     "text": [
      "[[53892   687]\n",
      " [ 1891  3530]]\n"
     ]
    }
   ],
   "source": [
    "cm = confusion_matrix(y_train_digit, y_train_pred)\n",
    "print(cm)"
   ]
  },
  {
   "cell_type": "markdown",
   "id": "59cf737a-34cc-451c-a1ff-a0774959bccd",
   "metadata": {},
   "source": [
    "53892 gives the true negatives, 687 gives the false positives(type 1 error). 1891 gives false negatives(type 2 error) and 3530 gives true positives."
   ]
  },
  {
   "cell_type": "markdown",
   "id": "0c824ff6-4df6-4a45-9fb5-dd38781a041f",
   "metadata": {},
   "source": [
    "A perfect Classifier would have only TP and TN. Only its main diagonal would contain non-zero values."
   ]
  },
  {
   "cell_type": "markdown",
   "id": "aa2b9c54-82d5-42e9-8e7a-b26eae121d37",
   "metadata": {},
   "source": [
    "#### information from confusion matrix"
   ]
  },
  {
   "cell_type": "markdown",
   "id": "aab25c42-cbd4-4c84-a8e3-ecbe83694731",
   "metadata": {},
   "source": [
    "##### Precision"
   ]
  },
  {
   "cell_type": "markdown",
   "id": "7ff4797d-e750-4c8b-a991-6a44fd364ae2",
   "metadata": {},
   "source": [
    "it is the accuracy of positive predictions. Out of all the positive predictions, it gives the fraction of correct positive predictions"
   ]
  },
  {
   "cell_type": "markdown",
   "id": "9ac09e14-bf41-49d2-b2ea-ef6b1e2419af",
   "metadata": {},
   "source": [
    "$$\\text{Precision} = \\frac{\\text{TP}}{\\text{TP} + \\text{FP}}$$"
   ]
  },
  {
   "cell_type": "markdown",
   "id": "d96b3c93-6231-402b-83f5-baed1d6a206b",
   "metadata": {},
   "source": [
    "##### Recall/sensitivity/True Positive Rate(TPR)"
   ]
  },
  {
   "cell_type": "markdown",
   "id": "6e4b9c9f-183d-46c1-80ce-8afb677537c0",
   "metadata": {},
   "source": [
    "It is the ratio of positive instances that are correctly detected by the classifier."
   ]
  },
  {
   "cell_type": "markdown",
   "id": "4efad3a9-2530-4122-be0d-963621a5cf9e",
   "metadata": {},
   "source": [
    "$$\\text{Recall} = \\frac{\\text{TP}}{\\text{TP} + \\text{FN}}$$"
   ]
  },
  {
   "cell_type": "markdown",
   "id": "4fb8433b-da43-4e82-b114-8da5cd5794ba",
   "metadata": {},
   "source": [
    "Increasing precision reduces recall, and increasing recall reduces precision. This is called precision/recall trade-off "
   ]
  },
  {
   "cell_type": "code",
   "execution_count": 24,
   "id": "3f371994-823b-4668-89ba-ded27863b6ce",
   "metadata": {},
   "outputs": [],
   "source": [
    "from sklearn.metrics import precision_score, recall_score"
   ]
  },
  {
   "cell_type": "code",
   "execution_count": 25,
   "id": "f2137695-5928-49db-b482-2d6a6742a826",
   "metadata": {},
   "outputs": [
    {
     "data": {
      "text/plain": [
       "0.8370879772350012"
      ]
     },
     "execution_count": 25,
     "metadata": {},
     "output_type": "execute_result"
    }
   ],
   "source": [
    "precision_score(y_train_digit,y_train_pred)"
   ]
  },
  {
   "cell_type": "code",
   "execution_count": 26,
   "id": "a24af03b-d375-4282-8e23-2656cc2cb12f",
   "metadata": {},
   "outputs": [
    {
     "data": {
      "text/plain": [
       "0.6511713705958311"
      ]
     },
     "execution_count": 26,
     "metadata": {},
     "output_type": "execute_result"
    }
   ],
   "source": [
    "recall_score(y_train_digit, y_train_pred)"
   ]
  },
  {
   "cell_type": "markdown",
   "id": "4ee52b7e-e2fc-438d-9243-a867bf156e58",
   "metadata": {},
   "source": [
    "As seen here, the mode is detecting only about 65% of the 5s correctly, and whenever it says detects a 5 correctly only 83.7% of the time"
   ]
  },
  {
   "cell_type": "markdown",
   "id": "e99bd5ad-f905-4284-ba54-4b8f631450e0",
   "metadata": {},
   "source": [
    "##### F1 score"
   ]
  },
  {
   "cell_type": "markdown",
   "id": "70d73dfa-9e1c-4666-8faf-aec33661557a",
   "metadata": {},
   "source": [
    "F1 score is a combined metrics of recall and precision to compare two classifiers.\n",
    "\n",
    "It is the Harmonic mean of precision and recall. It gives more weight to lower values.(low means in reciprocal it prefers high precision and recalls)\n",
    "\n",
    "A classifier will get a high F1 score only if both recall and precision and high"
   ]
  },
  {
   "cell_type": "markdown",
   "id": "69f7910a-51d6-42f1-9b89-2f67e8cb7181",
   "metadata": {},
   "source": [
    "$$\\text{F1} = \\frac{\\text{2}}{\\frac{\\text{1}}{\\text{Precision}} + \\frac{\\text{1}}{\\text{Recall}}}$$"
   ]
  },
  {
   "cell_type": "code",
   "execution_count": 27,
   "id": "b95c50af-2ab0-4481-b252-0d15a2a94e1c",
   "metadata": {},
   "outputs": [],
   "source": [
    "from sklearn.metrics import f1_score"
   ]
  },
  {
   "cell_type": "code",
   "execution_count": 28,
   "id": "fad63456-ea31-460c-97ee-838a1169a129",
   "metadata": {},
   "outputs": [
    {
     "data": {
      "text/plain": [
       "0.7325171197343846"
      ]
     },
     "execution_count": 28,
     "metadata": {},
     "output_type": "execute_result"
    }
   ],
   "source": [
    "f1_score(y_train_digit, y_train_pred)"
   ]
  },
  {
   "cell_type": "markdown",
   "id": "309f2f59-1f88-42f8-b5d7-d994ca6e9da6",
   "metadata": {},
   "source": [
    "##### which measure to use?"
   ]
  },
  {
   "cell_type": "markdown",
   "id": "d5a83eb7-cb10-41bb-b0ee-e0996a4d3e2c",
   "metadata": {},
   "source": [
    "Depends on context. in some cases precision is highly important. ex:- filtering NSFW content. Losing some recall wont bother much. In some cases, such as criminal detection High recall is important. \n"
   ]
  },
  {
   "cell_type": "markdown",
   "id": "86f79bbd-cc79-4601-afd9-7709a014c9fa",
   "metadata": {},
   "source": [
    "##### Precision/Recall Trade Off"
   ]
  },
  {
   "cell_type": "markdown",
   "id": "bd66679b-a89f-4f2d-8c74-6e2b9cc6b693",
   "metadata": {},
   "source": [
    "Increasing precision reduces recall and vice versa.\n",
    "This is called the precision/recall trade-off. This is because increasing the precision is associated with increasing the threshold. In that process, some positives may also be eliminated because of the high threshold point, resulting in lower recall.\n",
    "Increasing recall is associated with decreasing the threshold to detect more positives. But in the process, some negatives are falsely labelled positive, resulting in lower precision."
   ]
  },
  {
   "cell_type": "code",
   "execution_count": 29,
   "id": "51ca037e-d552-431c-b89d-d9b2733974f1",
   "metadata": {},
   "outputs": [],
   "source": [
    "from sklearn.metrics import precision_recall_curve\n"
   ]
  },
  {
   "cell_type": "code",
   "execution_count": 30,
   "id": "5b59105a-4290-46a7-8f26-e30f3f3d6392",
   "metadata": {},
   "outputs": [],
   "source": [
    "y_scores = cross_val_predict(model, x_train, y_train_digit, cv = 3, method = 'decision_function')\n",
    "precisions, recalls, thresholds = precision_recall_curve(y_train_digit, y_scores)"
   ]
  },
  {
   "cell_type": "code",
   "execution_count": 31,
   "id": "c33193d2-fdf1-4865-91b5-2bc54b1a905d",
   "metadata": {},
   "outputs": [
    {
     "data": {
      "text/plain": [
       "<matplotlib.legend.Legend at 0x240f9ca6910>"
      ]
     },
     "execution_count": 31,
     "metadata": {},
     "output_type": "execute_result"
    },
    {
     "data": {
      "image/png": "[encoded data removed]",
      "text/plain": [
       "<Figure size 640x480 with 1 Axes>"
      ]
     },
     "metadata": {},
     "output_type": "display_data"
    }
   ],
   "source": [
    "threshold = 0\n",
    "plt.plot(thresholds, precisions[:-1], \"b--\", label = \"Precision\", linewidth=2)\n",
    "plt.plot(thresholds, recalls[:-1], \"g-\", label = \"Recall\", linewidth=2)\n",
    "plt.grid(True)\n",
    "plt.vlines(threshold, 0, 1.0, \"k\", \"dotted\", label=\"threshold\")\n",
    "plt.legend()"
   ]
  },
  {
   "cell_type": "markdown",
   "id": "8f8cd2c6-8857-40fc-ab2f-f92800747d4b",
   "metadata": {},
   "source": [
    "Precision curve is going to be bumpy, because some positives maybe lost on increasing the threshold, while retaining the negatives. But, recall always decreases, as some positives are lost."
   ]
  },
  {
   "cell_type": "code",
   "execution_count": 32,
   "id": "49fd832d-b9b1-47e6-85f4-b63a3a75a40d",
   "metadata": {},
   "outputs": [
    {
     "data": {
      "text/plain": [
       "Text(0, 0.5, 'Precision')"
      ]
     },
     "execution_count": 32,
     "metadata": {},
     "output_type": "execute_result"
    },
    {
     "data": {
      "image/png": "[encoded data removed]",
      "text/plain": [
       "<Figure size 640x480 with 1 Axes>"
      ]
     },
     "metadata": {},
     "output_type": "display_data"
    }
   ],
   "source": [
    "plt.plot(recalls, precisions, linewidth = 2, label = \"Precision/Recall curve\")\n",
    "plt.grid(True)\n",
    "plt.legend()\n",
    "plt.xlabel('Recall')\n",
    "plt.ylabel(\"Precision\")"
   ]
  },
  {
   "cell_type": "markdown",
   "id": "6c7e737e-1891-40ab-b22b-96ff2ec840df",
   "metadata": {},
   "source": [
    "##### ROC Curve"
   ]
  },
  {
   "cell_type": "markdown",
   "id": "0bd5bfd8-ef96-4c75-9b46-3c0360a59ce4",
   "metadata": {},
   "source": [
    "Receriver operating characteristic (ROC) curve is a common tool used with binary classifiers. \n",
    "\n",
    "It plots TPR(recall) against FPR(fall-out). "
   ]
  },
  {
   "cell_type": "code",
   "execution_count": 33,
   "id": "2fd73033-207e-42ed-9886-159465f40295",
   "metadata": {},
   "outputs": [],
   "source": [
    "from sklearn.metrics import roc_curve\n",
    "fpr, tpr, thresholds = roc_curve(y_train_digit, y_scores)"
   ]
  },
  {
   "cell_type": "code",
   "execution_count": 35,
   "id": "d1c2e492-06d4-4838-886e-1848ec98ea23",
   "metadata": {},
   "outputs": [
    {
     "data": {
      "image/png": "[encoded data removed]",
      "text/plain": [
       "<Figure size 640x480 with 1 Axes>"
      ]
     },
     "metadata": {},
     "output_type": "display_data"
    }
   ],
   "source": [
    "plt.plot(fpr, tpr, linewidth = 2, label = \"ROC curve\")\n",
    "plt.plot([0,1],[0,1], 'k:', label = \"Random classifier's ROC curve\")\n",
    "plt.xlabel('False Positive Rate(Fall-out)')\n",
    "plt.ylabel(\"True Positive Rate(Recall)\")\n",
    "plt.legend()\n",
    "plt.grid(True)"
   ]
  },
  {
   "cell_type": "markdown",
   "id": "ce6eda91-cb44-408f-9f8d-6bf710f4dbff",
   "metadata": {},
   "source": [
    "Two models can be compared using their 'auc (area under curve)' values. \n",
    "\n",
    "A perfect classifier will have aoc close to 1.\n",
    "\n",
    "A purely random classifier will have aoc close to 0.5"
   ]
  },
  {
   "cell_type": "code",
   "execution_count": 38,
   "id": "ca34216a-3b8f-4b64-bc42-f4390501979e",
   "metadata": {},
   "outputs": [
    {
     "data": {
      "text/plain": [
       "0.9604938554008616"
      ]
     },
     "execution_count": 38,
     "metadata": {},
     "output_type": "execute_result"
    }
   ],
   "source": [
    "from sklearn.metrics import roc_auc_score\n",
    "roc_auc_score(y_train_digit, y_scores)"
   ]
  }
 ],
 "metadata": {
  "kernelspec": {
   "display_name": "Python 3 (ipykernel)",
   "language": "python",
   "name": "python3"
  },
  "language_info": {
   "codemirror_mode": {
    "name": "ipython",
    "version": 3
   },
   "file_extension": ".py",
   "mimetype": "text/x-python",
   "name": "python",
   "nbconvert_exporter": "python",
   "pygments_lexer": "ipython3",
   "version": "3.11.2"
  }
 },
 "nbformat": 4,
 "nbformat_minor": 5
}
